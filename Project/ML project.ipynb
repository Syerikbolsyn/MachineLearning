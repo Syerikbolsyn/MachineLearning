{
 "cells": [
  {
   "cell_type": "code",
   "execution_count": 54,
   "id": "valid-proposal",
   "metadata": {},
   "outputs": [
    {
     "name": "stdout",
     "output_type": "stream",
     "text": [
      "3.4.1\n"
     ]
    }
   ],
   "source": [
    "import numpy as np \n",
    "import pandas as pd \n",
    "import os\n",
    "import matplotlib.pyplot as plt\n",
    "import cv2 \n",
    "print( cv2.__version__)\n",
    "\n",
    "from keras.utils import to_categorical\n",
    "from keras.layers import Dense,Conv2D,Flatten,MaxPool2D,Dropout\n",
    "from keras.models import Sequential\n",
    "\n",
    "from sklearn.model_selection import train_test_split\n",
    "\n",
    "np.random.seed(1)\n"
   ]
  },
  {
   "cell_type": "code",
   "execution_count": 168,
   "id": "bridal-border",
   "metadata": {},
   "outputs": [
    {
     "name": "stdout",
     "output_type": "stream",
     "text": [
      "hello:  ['Logan']\n",
      "hello:  ['Logan', 'Logan']\n",
      "hello:  ['Logan', 'Logan', 'Logan']\n",
      "hello:  ['Logan', 'Logan', 'Logan', 'Logan']\n",
      "hello:  ['Logan', 'Logan', 'Logan', 'Logan', 'Logan']\n",
      "hello:  ['Logan', 'Logan', 'Logan', 'Logan', 'Logan', 'Logan']\n",
      "hello:  ['Logan', 'Logan', 'Logan', 'Logan', 'Logan', 'Logan', 'Logan']\n",
      "hello:  ['Logan', 'Logan', 'Logan', 'Logan', 'Logan', 'Logan', 'Logan', 'Logan']\n",
      "hello:  ['Logan', 'Logan', 'Logan', 'Logan', 'Logan', 'Logan', 'Logan', 'Logan', 'Logan']\n",
      "hello:  ['Logan', 'Logan', 'Logan', 'Logan', 'Logan', 'Logan', 'Logan', 'Logan', 'Logan', 'Magneto']\n",
      "hello:  ['Logan', 'Logan', 'Logan', 'Logan', 'Logan', 'Logan', 'Logan', 'Logan', 'Logan', 'Magneto', 'Magneto']\n",
      "hello:  ['Logan', 'Logan', 'Logan', 'Logan', 'Logan', 'Logan', 'Logan', 'Logan', 'Logan', 'Magneto', 'Magneto', 'Magneto']\n",
      "hello:  ['Logan', 'Logan', 'Logan', 'Logan', 'Logan', 'Logan', 'Logan', 'Logan', 'Logan', 'Magneto', 'Magneto', 'Magneto', 'Magneto']\n",
      "hello:  ['Logan', 'Logan', 'Logan', 'Logan', 'Logan', 'Logan', 'Logan', 'Logan', 'Logan', 'Magneto', 'Magneto', 'Magneto', 'Magneto', 'Magneto']\n",
      "hello:  ['Logan', 'Logan', 'Logan', 'Logan', 'Logan', 'Logan', 'Logan', 'Logan', 'Logan', 'Magneto', 'Magneto', 'Magneto', 'Magneto', 'Magneto', 'Magneto']\n",
      "hello:  ['Logan', 'Logan', 'Logan', 'Logan', 'Logan', 'Logan', 'Logan', 'Logan', 'Logan', 'Magneto', 'Magneto', 'Magneto', 'Magneto', 'Magneto', 'Magneto', 'Magneto']\n",
      "hello:  ['Logan', 'Logan', 'Logan', 'Logan', 'Logan', 'Logan', 'Logan', 'Logan', 'Logan', 'Magneto', 'Magneto', 'Magneto', 'Magneto', 'Magneto', 'Magneto', 'Magneto', 'Magneto']\n",
      "hello:  ['Logan', 'Logan', 'Logan', 'Logan', 'Logan', 'Logan', 'Logan', 'Logan', 'Logan', 'Magneto', 'Magneto', 'Magneto', 'Magneto', 'Magneto', 'Magneto', 'Magneto', 'Magneto', 'Magneto']\n",
      "hello:  ['Logan', 'Logan', 'Logan', 'Logan', 'Logan', 'Logan', 'Logan', 'Logan', 'Logan', 'Magneto', 'Magneto', 'Magneto', 'Magneto', 'Magneto', 'Magneto', 'Magneto', 'Magneto', 'Magneto', 'Magneto']\n",
      "hello:  ['Logan', 'Logan', 'Logan', 'Logan', 'Logan', 'Logan', 'Logan', 'Logan', 'Logan', 'Magneto', 'Magneto', 'Magneto', 'Magneto', 'Magneto', 'Magneto', 'Magneto', 'Magneto', 'Magneto', 'Magneto', 'Mystique']\n",
      "hello:  ['Logan', 'Logan', 'Logan', 'Logan', 'Logan', 'Logan', 'Logan', 'Logan', 'Logan', 'Magneto', 'Magneto', 'Magneto', 'Magneto', 'Magneto', 'Magneto', 'Magneto', 'Magneto', 'Magneto', 'Magneto', 'Mystique', 'Mystique']\n",
      "hello:  ['Logan', 'Logan', 'Logan', 'Logan', 'Logan', 'Logan', 'Logan', 'Logan', 'Logan', 'Magneto', 'Magneto', 'Magneto', 'Magneto', 'Magneto', 'Magneto', 'Magneto', 'Magneto', 'Magneto', 'Magneto', 'Mystique', 'Mystique', 'Mystique']\n",
      "hello:  ['Logan', 'Logan', 'Logan', 'Logan', 'Logan', 'Logan', 'Logan', 'Logan', 'Logan', 'Magneto', 'Magneto', 'Magneto', 'Magneto', 'Magneto', 'Magneto', 'Magneto', 'Magneto', 'Magneto', 'Magneto', 'Mystique', 'Mystique', 'Mystique', 'Mystique']\n",
      "hello:  ['Logan', 'Logan', 'Logan', 'Logan', 'Logan', 'Logan', 'Logan', 'Logan', 'Logan', 'Magneto', 'Magneto', 'Magneto', 'Magneto', 'Magneto', 'Magneto', 'Magneto', 'Magneto', 'Magneto', 'Magneto', 'Mystique', 'Mystique', 'Mystique', 'Mystique', 'Mystique']\n",
      "hello:  ['Logan', 'Logan', 'Logan', 'Logan', 'Logan', 'Logan', 'Logan', 'Logan', 'Logan', 'Magneto', 'Magneto', 'Magneto', 'Magneto', 'Magneto', 'Magneto', 'Magneto', 'Magneto', 'Magneto', 'Magneto', 'Mystique', 'Mystique', 'Mystique', 'Mystique', 'Mystique', 'Mystique']\n",
      "hello:  ['Logan', 'Logan', 'Logan', 'Logan', 'Logan', 'Logan', 'Logan', 'Logan', 'Logan', 'Magneto', 'Magneto', 'Magneto', 'Magneto', 'Magneto', 'Magneto', 'Magneto', 'Magneto', 'Magneto', 'Magneto', 'Mystique', 'Mystique', 'Mystique', 'Mystique', 'Mystique', 'Mystique', 'Mystique']\n",
      "hello:  ['Logan', 'Logan', 'Logan', 'Logan', 'Logan', 'Logan', 'Logan', 'Logan', 'Logan', 'Magneto', 'Magneto', 'Magneto', 'Magneto', 'Magneto', 'Magneto', 'Magneto', 'Magneto', 'Magneto', 'Magneto', 'Mystique', 'Mystique', 'Mystique', 'Mystique', 'Mystique', 'Mystique', 'Mystique', 'Mystique']\n",
      "hello:  ['Logan', 'Logan', 'Logan', 'Logan', 'Logan', 'Logan', 'Logan', 'Logan', 'Logan', 'Magneto', 'Magneto', 'Magneto', 'Magneto', 'Magneto', 'Magneto', 'Magneto', 'Magneto', 'Magneto', 'Magneto', 'Mystique', 'Mystique', 'Mystique', 'Mystique', 'Mystique', 'Mystique', 'Mystique', 'Mystique', 'Mystique']\n",
      "hello:  ['Logan', 'Logan', 'Logan', 'Logan', 'Logan', 'Logan', 'Logan', 'Logan', 'Logan', 'Magneto', 'Magneto', 'Magneto', 'Magneto', 'Magneto', 'Magneto', 'Magneto', 'Magneto', 'Magneto', 'Magneto', 'Mystique', 'Mystique', 'Mystique', 'Mystique', 'Mystique', 'Mystique', 'Mystique', 'Mystique', 'Mystique', 'Mystique']\n",
      "hello:  ['Logan', 'Logan', 'Logan', 'Logan', 'Logan', 'Logan', 'Logan', 'Logan', 'Logan', 'Magneto', 'Magneto', 'Magneto', 'Magneto', 'Magneto', 'Magneto', 'Magneto', 'Magneto', 'Magneto', 'Magneto', 'Mystique', 'Mystique', 'Mystique', 'Mystique', 'Mystique', 'Mystique', 'Mystique', 'Mystique', 'Mystique', 'Mystique', 'Professor X']\n",
      "hello:  ['Logan', 'Logan', 'Logan', 'Logan', 'Logan', 'Logan', 'Logan', 'Logan', 'Logan', 'Magneto', 'Magneto', 'Magneto', 'Magneto', 'Magneto', 'Magneto', 'Magneto', 'Magneto', 'Magneto', 'Magneto', 'Mystique', 'Mystique', 'Mystique', 'Mystique', 'Mystique', 'Mystique', 'Mystique', 'Mystique', 'Mystique', 'Mystique', 'Professor X', 'Professor X']\n",
      "hello:  ['Logan', 'Logan', 'Logan', 'Logan', 'Logan', 'Logan', 'Logan', 'Logan', 'Logan', 'Magneto', 'Magneto', 'Magneto', 'Magneto', 'Magneto', 'Magneto', 'Magneto', 'Magneto', 'Magneto', 'Magneto', 'Mystique', 'Mystique', 'Mystique', 'Mystique', 'Mystique', 'Mystique', 'Mystique', 'Mystique', 'Mystique', 'Mystique', 'Professor X', 'Professor X', 'Professor X']\n",
      "hello:  ['Logan', 'Logan', 'Logan', 'Logan', 'Logan', 'Logan', 'Logan', 'Logan', 'Logan', 'Magneto', 'Magneto', 'Magneto', 'Magneto', 'Magneto', 'Magneto', 'Magneto', 'Magneto', 'Magneto', 'Magneto', 'Mystique', 'Mystique', 'Mystique', 'Mystique', 'Mystique', 'Mystique', 'Mystique', 'Mystique', 'Mystique', 'Mystique', 'Professor X', 'Professor X', 'Professor X', 'Professor X']\n",
      "hello:  ['Logan', 'Logan', 'Logan', 'Logan', 'Logan', 'Logan', 'Logan', 'Logan', 'Logan', 'Magneto', 'Magneto', 'Magneto', 'Magneto', 'Magneto', 'Magneto', 'Magneto', 'Magneto', 'Magneto', 'Magneto', 'Mystique', 'Mystique', 'Mystique', 'Mystique', 'Mystique', 'Mystique', 'Mystique', 'Mystique', 'Mystique', 'Mystique', 'Professor X', 'Professor X', 'Professor X', 'Professor X', 'Professor X']\n",
      "hello:  ['Logan', 'Logan', 'Logan', 'Logan', 'Logan', 'Logan', 'Logan', 'Logan', 'Logan', 'Magneto', 'Magneto', 'Magneto', 'Magneto', 'Magneto', 'Magneto', 'Magneto', 'Magneto', 'Magneto', 'Magneto', 'Mystique', 'Mystique', 'Mystique', 'Mystique', 'Mystique', 'Mystique', 'Mystique', 'Mystique', 'Mystique', 'Mystique', 'Professor X', 'Professor X', 'Professor X', 'Professor X', 'Professor X', 'Professor X']\n",
      "hello:  ['Logan', 'Logan', 'Logan', 'Logan', 'Logan', 'Logan', 'Logan', 'Logan', 'Logan', 'Magneto', 'Magneto', 'Magneto', 'Magneto', 'Magneto', 'Magneto', 'Magneto', 'Magneto', 'Magneto', 'Magneto', 'Mystique', 'Mystique', 'Mystique', 'Mystique', 'Mystique', 'Mystique', 'Mystique', 'Mystique', 'Mystique', 'Mystique', 'Professor X', 'Professor X', 'Professor X', 'Professor X', 'Professor X', 'Professor X', 'Professor X']\n",
      "hello:  ['Logan', 'Logan', 'Logan', 'Logan', 'Logan', 'Logan', 'Logan', 'Logan', 'Logan', 'Magneto', 'Magneto', 'Magneto', 'Magneto', 'Magneto', 'Magneto', 'Magneto', 'Magneto', 'Magneto', 'Magneto', 'Mystique', 'Mystique', 'Mystique', 'Mystique', 'Mystique', 'Mystique', 'Mystique', 'Mystique', 'Mystique', 'Mystique', 'Professor X', 'Professor X', 'Professor X', 'Professor X', 'Professor X', 'Professor X', 'Professor X', 'Professor X']\n",
      "hello:  ['Logan', 'Logan', 'Logan', 'Logan', 'Logan', 'Logan', 'Logan', 'Logan', 'Logan', 'Magneto', 'Magneto', 'Magneto', 'Magneto', 'Magneto', 'Magneto', 'Magneto', 'Magneto', 'Magneto', 'Magneto', 'Mystique', 'Mystique', 'Mystique', 'Mystique', 'Mystique', 'Mystique', 'Mystique', 'Mystique', 'Mystique', 'Mystique', 'Professor X', 'Professor X', 'Professor X', 'Professor X', 'Professor X', 'Professor X', 'Professor X', 'Professor X', 'Professor X']\n",
      "hello:  ['Logan', 'Logan', 'Logan', 'Logan', 'Logan', 'Logan', 'Logan', 'Logan', 'Logan', 'Magneto', 'Magneto', 'Magneto', 'Magneto', 'Magneto', 'Magneto', 'Magneto', 'Magneto', 'Magneto', 'Magneto', 'Mystique', 'Mystique', 'Mystique', 'Mystique', 'Mystique', 'Mystique', 'Mystique', 'Mystique', 'Mystique', 'Mystique', 'Professor X', 'Professor X', 'Professor X', 'Professor X', 'Professor X', 'Professor X', 'Professor X', 'Professor X', 'Professor X', 'Professor X']\n",
      "hello:  ['Logan', 'Logan', 'Logan', 'Logan', 'Logan', 'Logan', 'Logan', 'Logan', 'Logan', 'Magneto', 'Magneto', 'Magneto', 'Magneto', 'Magneto', 'Magneto', 'Magneto', 'Magneto', 'Magneto', 'Magneto', 'Mystique', 'Mystique', 'Mystique', 'Mystique', 'Mystique', 'Mystique', 'Mystique', 'Mystique', 'Mystique', 'Mystique', 'Professor X', 'Professor X', 'Professor X', 'Professor X', 'Professor X', 'Professor X', 'Professor X', 'Professor X', 'Professor X', 'Professor X', 'Storm']\n",
      "hello:  ['Logan', 'Logan', 'Logan', 'Logan', 'Logan', 'Logan', 'Logan', 'Logan', 'Logan', 'Magneto', 'Magneto', 'Magneto', 'Magneto', 'Magneto', 'Magneto', 'Magneto', 'Magneto', 'Magneto', 'Magneto', 'Mystique', 'Mystique', 'Mystique', 'Mystique', 'Mystique', 'Mystique', 'Mystique', 'Mystique', 'Mystique', 'Mystique', 'Professor X', 'Professor X', 'Professor X', 'Professor X', 'Professor X', 'Professor X', 'Professor X', 'Professor X', 'Professor X', 'Professor X', 'Storm', 'Storm']\n",
      "hello:  ['Logan', 'Logan', 'Logan', 'Logan', 'Logan', 'Logan', 'Logan', 'Logan', 'Logan', 'Magneto', 'Magneto', 'Magneto', 'Magneto', 'Magneto', 'Magneto', 'Magneto', 'Magneto', 'Magneto', 'Magneto', 'Mystique', 'Mystique', 'Mystique', 'Mystique', 'Mystique', 'Mystique', 'Mystique', 'Mystique', 'Mystique', 'Mystique', 'Professor X', 'Professor X', 'Professor X', 'Professor X', 'Professor X', 'Professor X', 'Professor X', 'Professor X', 'Professor X', 'Professor X', 'Storm', 'Storm', 'Storm']\n",
      "hello:  ['Logan', 'Logan', 'Logan', 'Logan', 'Logan', 'Logan', 'Logan', 'Logan', 'Logan', 'Magneto', 'Magneto', 'Magneto', 'Magneto', 'Magneto', 'Magneto', 'Magneto', 'Magneto', 'Magneto', 'Magneto', 'Mystique', 'Mystique', 'Mystique', 'Mystique', 'Mystique', 'Mystique', 'Mystique', 'Mystique', 'Mystique', 'Mystique', 'Professor X', 'Professor X', 'Professor X', 'Professor X', 'Professor X', 'Professor X', 'Professor X', 'Professor X', 'Professor X', 'Professor X', 'Storm', 'Storm', 'Storm', 'Storm']\n",
      "hello:  ['Logan', 'Logan', 'Logan', 'Logan', 'Logan', 'Logan', 'Logan', 'Logan', 'Logan', 'Magneto', 'Magneto', 'Magneto', 'Magneto', 'Magneto', 'Magneto', 'Magneto', 'Magneto', 'Magneto', 'Magneto', 'Mystique', 'Mystique', 'Mystique', 'Mystique', 'Mystique', 'Mystique', 'Mystique', 'Mystique', 'Mystique', 'Mystique', 'Professor X', 'Professor X', 'Professor X', 'Professor X', 'Professor X', 'Professor X', 'Professor X', 'Professor X', 'Professor X', 'Professor X', 'Storm', 'Storm', 'Storm', 'Storm', 'Storm']\n",
      "hello:  ['Logan', 'Logan', 'Logan', 'Logan', 'Logan', 'Logan', 'Logan', 'Logan', 'Logan', 'Magneto', 'Magneto', 'Magneto', 'Magneto', 'Magneto', 'Magneto', 'Magneto', 'Magneto', 'Magneto', 'Magneto', 'Mystique', 'Mystique', 'Mystique', 'Mystique', 'Mystique', 'Mystique', 'Mystique', 'Mystique', 'Mystique', 'Mystique', 'Professor X', 'Professor X', 'Professor X', 'Professor X', 'Professor X', 'Professor X', 'Professor X', 'Professor X', 'Professor X', 'Professor X', 'Storm', 'Storm', 'Storm', 'Storm', 'Storm', 'Storm']\n"
     ]
    },
    {
     "name": "stdout",
     "output_type": "stream",
     "text": [
      "hello:  ['Logan', 'Logan', 'Logan', 'Logan', 'Logan', 'Logan', 'Logan', 'Logan', 'Logan', 'Magneto', 'Magneto', 'Magneto', 'Magneto', 'Magneto', 'Magneto', 'Magneto', 'Magneto', 'Magneto', 'Magneto', 'Mystique', 'Mystique', 'Mystique', 'Mystique', 'Mystique', 'Mystique', 'Mystique', 'Mystique', 'Mystique', 'Mystique', 'Professor X', 'Professor X', 'Professor X', 'Professor X', 'Professor X', 'Professor X', 'Professor X', 'Professor X', 'Professor X', 'Professor X', 'Storm', 'Storm', 'Storm', 'Storm', 'Storm', 'Storm', 'Storm']\n",
      "hello:  ['Logan', 'Logan', 'Logan', 'Logan', 'Logan', 'Logan', 'Logan', 'Logan', 'Logan', 'Magneto', 'Magneto', 'Magneto', 'Magneto', 'Magneto', 'Magneto', 'Magneto', 'Magneto', 'Magneto', 'Magneto', 'Mystique', 'Mystique', 'Mystique', 'Mystique', 'Mystique', 'Mystique', 'Mystique', 'Mystique', 'Mystique', 'Mystique', 'Professor X', 'Professor X', 'Professor X', 'Professor X', 'Professor X', 'Professor X', 'Professor X', 'Professor X', 'Professor X', 'Professor X', 'Storm', 'Storm', 'Storm', 'Storm', 'Storm', 'Storm', 'Storm', 'Storm']\n",
      "hello:  ['Logan', 'Logan', 'Logan', 'Logan', 'Logan', 'Logan', 'Logan', 'Logan', 'Logan', 'Magneto', 'Magneto', 'Magneto', 'Magneto', 'Magneto', 'Magneto', 'Magneto', 'Magneto', 'Magneto', 'Magneto', 'Mystique', 'Mystique', 'Mystique', 'Mystique', 'Mystique', 'Mystique', 'Mystique', 'Mystique', 'Mystique', 'Mystique', 'Professor X', 'Professor X', 'Professor X', 'Professor X', 'Professor X', 'Professor X', 'Professor X', 'Professor X', 'Professor X', 'Professor X', 'Storm', 'Storm', 'Storm', 'Storm', 'Storm', 'Storm', 'Storm', 'Storm', 'Storm']\n",
      "hello:  ['Logan', 'Logan', 'Logan', 'Logan', 'Logan', 'Logan', 'Logan', 'Logan', 'Logan', 'Magneto', 'Magneto', 'Magneto', 'Magneto', 'Magneto', 'Magneto', 'Magneto', 'Magneto', 'Magneto', 'Magneto', 'Mystique', 'Mystique', 'Mystique', 'Mystique', 'Mystique', 'Mystique', 'Mystique', 'Mystique', 'Mystique', 'Mystique', 'Professor X', 'Professor X', 'Professor X', 'Professor X', 'Professor X', 'Professor X', 'Professor X', 'Professor X', 'Professor X', 'Professor X', 'Storm', 'Storm', 'Storm', 'Storm', 'Storm', 'Storm', 'Storm', 'Storm', 'Storm', 'Storm']\n"
     ]
    }
   ],
   "source": [
    "train_images = []       \n",
    "train_labels = []\n",
    "shape = (256,256)  \n",
    "train_path = 'Heroes/'\n",
    "\n",
    "for filename in os.listdir(train_path):\n",
    "    if filename.split('.')[1] == 'jpg':\n",
    "        img = cv2.imread(train_path + filename)\n",
    "        window_name = 'image'\n",
    "#         cv2.imshow(window_name, img)\n",
    "#         cv2.waitKey(0)  \n",
    "#         cv2.destroyAllWindows()\n",
    "        # Spliting file names and storing the labels for image in list\n",
    "        train_labels.append(filename.split('_')[0])\n",
    "        print(\"hello: \" ,train_labels)\n",
    "        \n",
    "        # Resize all images to a specific shape\n",
    "        \n",
    "        img = cv2.resize(img, shape)\n",
    "        \n",
    "        train_images.append(img)\n",
    "\n",
    "# Converting labels into One Hot encoded sparse matrix\n",
    "train_labels = pd.get_dummies(train_labels).values\n",
    "\n",
    "# Converting train_images to array\n",
    "train_images = np.array(train_images)\n",
    "\n",
    "# Splitting Training data into train and validation dataset\n",
    "x_train,x_val,y_train,y_val = train_test_split(train_images,train_labels,random_state=1)"
   ]
  },
  {
   "cell_type": "code",
   "execution_count": 169,
   "id": "medieval-riding",
   "metadata": {},
   "outputs": [],
   "source": [
    "# train_labels"
   ]
  },
  {
   "cell_type": "code",
   "execution_count": 170,
   "id": "moving-international",
   "metadata": {},
   "outputs": [],
   "source": [
    "\n",
    "test_images = []\n",
    "test_labels = []\n",
    "shape = (256,256)\n",
    "test_path = 'test/'\n",
    "\n",
    "for filename in os.listdir(test_path):\n",
    "    if filename.split('.')[1] == 'jpg':\n",
    "        img = cv2.imread(os.path.join(test_path,filename))\n",
    "        \n",
    "        # Spliting file names and storing the labels for image in list\n",
    "        test_labels.append(filename.split('_')[0])\n",
    "        \n",
    "        # Resize all images to a specific shape\n",
    "        img = cv2.resize(img,shape)\n",
    "        \n",
    "        test_images.append(img)\n",
    "        \n",
    "# Converting test_images to array\n",
    "test_images = np.array(test_images)"
   ]
  },
  {
   "cell_type": "code",
   "execution_count": 171,
   "id": "configured-routine",
   "metadata": {},
   "outputs": [
    {
     "data": {
      "text/plain": [
       "3"
      ]
     },
     "execution_count": 171,
     "metadata": {},
     "output_type": "execute_result"
    }
   ],
   "source": [
    "\n",
    "len(test_labels)"
   ]
  },
  {
   "cell_type": "code",
   "execution_count": 172,
   "id": "inclusive-wright",
   "metadata": {},
   "outputs": [],
   "source": [
    "# Creating a Sequential model\n",
    "model= Sequential()\n",
    "model.add(Conv2D(kernel_size=(3,3), filters=32, activation='tanh', input_shape=(256,256,3,)))\n",
    "model.add(Conv2D(filters=30,kernel_size = (3,3),activation='tanh'))\n",
    "model.add(MaxPool2D(2,2))\n",
    "model.add(Conv2D(filters=30,kernel_size = (3,3),activation='tanh'))\n",
    "model.add(MaxPool2D(2,2))\n",
    "model.add(Conv2D(filters=30,kernel_size = (3,3),activation='tanh'))\n",
    "\n",
    "model.add(Flatten())\n",
    "\n",
    "model.add(Dense(20,activation='relu'))\n",
    "model.add(Dense(15,activation='relu'))\n",
    "model.add(Dense(5,activation = 'softmax'))\n",
    "    \n",
    "model.compile(\n",
    "              loss='categorical_crossentropy', \n",
    "              metrics=['acc'],\n",
    "              optimizer='adam'\n",
    "             )"
   ]
  },
  {
   "cell_type": "code",
   "execution_count": 173,
   "id": "provincial-wireless",
   "metadata": {},
   "outputs": [
    {
     "name": "stdout",
     "output_type": "stream",
     "text": [
      "Model: \"sequential_11\"\n",
      "_________________________________________________________________\n",
      "Layer (type)                 Output Shape              Param #   \n",
      "=================================================================\n",
      "conv2d_41 (Conv2D)           (None, 254, 254, 32)      896       \n",
      "_________________________________________________________________\n",
      "conv2d_42 (Conv2D)           (None, 252, 252, 30)      8670      \n",
      "_________________________________________________________________\n",
      "max_pooling2d_21 (MaxPooling (None, 126, 126, 30)      0         \n",
      "_________________________________________________________________\n",
      "conv2d_43 (Conv2D)           (None, 124, 124, 30)      8130      \n",
      "_________________________________________________________________\n",
      "max_pooling2d_22 (MaxPooling (None, 62, 62, 30)        0         \n",
      "_________________________________________________________________\n",
      "conv2d_44 (Conv2D)           (None, 60, 60, 30)        8130      \n",
      "_________________________________________________________________\n",
      "flatten_11 (Flatten)         (None, 108000)            0         \n",
      "_________________________________________________________________\n",
      "dense_31 (Dense)             (None, 20)                2160020   \n",
      "_________________________________________________________________\n",
      "dense_32 (Dense)             (None, 15)                315       \n",
      "_________________________________________________________________\n",
      "dense_33 (Dense)             (None, 5)                 80        \n",
      "=================================================================\n",
      "Total params: 2,186,241\n",
      "Trainable params: 2,186,241\n",
      "Non-trainable params: 0\n",
      "_________________________________________________________________\n"
     ]
    }
   ],
   "source": [
    "model.summary()"
   ]
  },
  {
   "cell_type": "code",
   "execution_count": 179,
   "id": "separate-religion",
   "metadata": {},
   "outputs": [
    {
     "name": "stdout",
     "output_type": "stream",
     "text": [
      "Train on 36 samples, validate on 13 samples\n",
      "Epoch 1/5\n",
      "36/36 [==============================] - 9s 247ms/step - loss: 2.3667 - acc: 0.3056 - val_loss: 2.5202 - val_acc: 0.0000e+00\n",
      "Epoch 2/5\n",
      "36/36 [==============================] - 9s 255ms/step - loss: 2.6073 - acc: 0.3611 - val_loss: 3.5024 - val_acc: 0.2308\n",
      "Epoch 3/5\n",
      "36/36 [==============================] - 9s 243ms/step - loss: 3.4045 - acc: 0.2222 - val_loss: 4.2593 - val_acc: 0.1538\n",
      "Epoch 4/5\n",
      "36/36 [==============================] - 9s 240ms/step - loss: 4.5681 - acc: 0.4167 - val_loss: 6.2570 - val_acc: 0.0769\n",
      "Epoch 5/5\n",
      "36/36 [==============================] - 9s 242ms/step - loss: 2.2339 - acc: 0.3889 - val_loss: 2.4019 - val_acc: 0.1538\n"
     ]
    }
   ],
   "source": [
    "history = model.fit(x_train,y_train,epochs=5,batch_size=3,validation_data=(x_val,y_val))\n"
   ]
  },
  {
   "cell_type": "code",
   "execution_count": 175,
   "id": "sealed-machine",
   "metadata": {},
   "outputs": [
    {
     "data": {
      "image/png": "[encoded data removed]",
      "text/plain": [
       "<Figure size 432x288 with 1 Axes>"
      ]
     },
     "metadata": {
      "needs_background": "light"
     },
     "output_type": "display_data"
    }
   ],
   "source": [
    "# summarize history for accuracy\n",
    "plt.plot(history.history['acc'])\n",
    "plt.plot(history.history['val_acc'])\n",
    "plt.title('model accuracy')\n",
    "plt.ylabel('accuracy')\n",
    "plt.xlabel('epoch')\n",
    "plt.legend(['train', 'test'], loc='upper left')\n",
    "plt.show()"
   ]
  },
  {
   "cell_type": "code",
   "execution_count": 176,
   "id": "considerable-thanksgiving",
   "metadata": {},
   "outputs": [],
   "source": [
    "# !pip install matplotlib==3.1.3\n"
   ]
  },
  {
   "cell_type": "code",
   "execution_count": 178,
   "id": "representative-germany",
   "metadata": {},
   "outputs": [
    {
     "name": "stdout",
     "output_type": "stream",
     "text": [
      "Actual :-  ['Mystiquet', 'Mystiquet', 'Mystiquet']\n",
      "[[0.26783547 0.27802205 0.4189179  0.00844008 0.02678452]\n",
      " [0.43856958 0.21970147 0.26017216 0.0445076  0.03704916]\n",
      " [0.46187383 0.13077435 0.40263948 0.00187237 0.00283995]]\n",
      "Predicted :-  Logan\n"
     ]
    }
   ],
   "source": [
    "checkImage = test_images[0:]\n",
    "checklabel = test_labels[0:4]\n",
    "\n",
    "predict = model.predict(np.array(checkImage))\n",
    "\n",
    "output = { 0:'Logan',1:'Magneto',2:'Mystique',3:'Professor', 4: 'Storm'}\n",
    "\n",
    "print(\"Actual :- \",checklabel)\n",
    "print(predict) \n",
    "print(\"Predicted :- \",output[np.argmax(predict)%5])\n"
   ]
  },
  {
   "cell_type": "code",
   "execution_count": 164,
   "id": "found-median",
   "metadata": {},
   "outputs": [
    {
     "ename": "AttributeError",
     "evalue": "module 'numpy' has no attribute 'absarray'",
     "output_type": "error",
     "traceback": [
      "\u001b[1;31m---------------------------------------------------------------------------\u001b[0m",
      "\u001b[1;31mAttributeError\u001b[0m                            Traceback (most recent call last)",
      "\u001b[1;32m<ipython-input-164-46a0f57de387>\u001b[0m in \u001b[0;36m<module>\u001b[1;34m\u001b[0m\n\u001b[0;32m      1\u001b[0m \u001b[0mresults\u001b[0m \u001b[1;33m=\u001b[0m \u001b[0mlist\u001b[0m\u001b[1;33m(\u001b[0m\u001b[1;33m)\u001b[0m\u001b[1;33m\u001b[0m\u001b[1;33m\u001b[0m\u001b[0m\n\u001b[0;32m      2\u001b[0m \u001b[1;32mfor\u001b[0m \u001b[0mtest_image\u001b[0m\u001b[1;33m,\u001b[0m \u001b[0mtest_label\u001b[0m \u001b[1;32min\u001b[0m \u001b[0mzip\u001b[0m\u001b[1;33m(\u001b[0m\u001b[0mtest_images\u001b[0m\u001b[1;33m,\u001b[0m \u001b[0mtest_labels\u001b[0m\u001b[1;33m)\u001b[0m\u001b[1;33m:\u001b[0m\u001b[1;33m\u001b[0m\u001b[1;33m\u001b[0m\u001b[0m\n\u001b[1;32m----> 3\u001b[1;33m     \u001b[0mpredict\u001b[0m \u001b[1;33m=\u001b[0m \u001b[0mmodel\u001b[0m\u001b[1;33m.\u001b[0m\u001b[0mpredict\u001b[0m\u001b[1;33m(\u001b[0m\u001b[0mnp\u001b[0m\u001b[1;33m.\u001b[0m\u001b[0mabsarray\u001b[0m\u001b[1;33m(\u001b[0m\u001b[0mtest_image\u001b[0m\u001b[1;33m)\u001b[0m\u001b[1;33m)\u001b[0m\u001b[1;33m\u001b[0m\u001b[1;33m\u001b[0m\u001b[0m\n\u001b[0m\u001b[0;32m      4\u001b[0m     \u001b[0mresults\u001b[0m\u001b[1;33m.\u001b[0m\u001b[0mappend\u001b[0m\u001b[1;33m(\u001b[0m\u001b[0mpredict\u001b[0m\u001b[1;33m)\u001b[0m\u001b[1;33m\u001b[0m\u001b[1;33m\u001b[0m\u001b[0m\n\u001b[0;32m      5\u001b[0m \u001b[1;33m\u001b[0m\u001b[0m\n",
      "\u001b[1;32mC:\\Anaconda\\Anaconda3\\lib\\site-packages\\numpy\\__init__.py\u001b[0m in \u001b[0;36m__getattr__\u001b[1;34m(attr)\u001b[0m\n\u001b[0;32m    213\u001b[0m             \u001b[1;32melse\u001b[0m\u001b[1;33m:\u001b[0m\u001b[1;33m\u001b[0m\u001b[1;33m\u001b[0m\u001b[0m\n\u001b[0;32m    214\u001b[0m                 raise AttributeError(\"module {!r} has no attribute \"\n\u001b[1;32m--> 215\u001b[1;33m                                      \"{!r}\".format(__name__, attr))\n\u001b[0m\u001b[0;32m    216\u001b[0m \u001b[1;33m\u001b[0m\u001b[0m\n\u001b[0;32m    217\u001b[0m         \u001b[1;32mdef\u001b[0m \u001b[0m__dir__\u001b[0m\u001b[1;33m(\u001b[0m\u001b[1;33m)\u001b[0m\u001b[1;33m:\u001b[0m\u001b[1;33m\u001b[0m\u001b[1;33m\u001b[0m\u001b[0m\n",
      "\u001b[1;31mAttributeError\u001b[0m: module 'numpy' has no attribute 'absarray'"
     ]
    }
   ],
   "source": [
    "results = list()\n",
    "for test_image, test_label in zip(test_images, test_labels):\n",
    "    predict = model.predict(np.absarray(test_image))\n",
    "    results.append(predict)\n",
    "    \n",
    "    print()"
   ]
  },
  {
   "cell_type": "code",
   "execution_count": null,
   "id": "meaningful-monitoring",
   "metadata": {},
   "outputs": [],
   "source": []
  },
  {
   "cell_type": "code",
   "execution_count": null,
   "id": "bearing-restriction",
   "metadata": {},
   "outputs": [],
   "source": []
  }
 ],
 "metadata": {
  "kernelspec": {
   "display_name": "Python 3",
   "language": "python",
   "name": "python3"
  },
  "language_info": {
   "codemirror_mode": {
    "name": "ipython",
    "version": 3
   },
   "file_extension": ".py",
   "mimetype": "text/x-python",
   "name": "python",
   "nbconvert_exporter": "python",
   "pygments_lexer": "ipython3",
   "version": "3.7.3"
  }
 },
 "nbformat": 4,
 "nbformat_minor": 5
}
